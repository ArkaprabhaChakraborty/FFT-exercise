{
 "cells": [
  {
   "cell_type": "code",
   "execution_count": 1,
   "id": "bed82546",
   "metadata": {},
   "outputs": [],
   "source": [
    "import numpy as np\n",
    "import matplotlib.pyplot as plt\n",
    "import scipy as sp\n",
    "from mpl_toolkits.mplot3d import Axes3D"
   ]
  },
  {
   "cell_type": "code",
   "execution_count": 2,
   "id": "3860a301",
   "metadata": {},
   "outputs": [],
   "source": [
    "B = 135e6  # Sweep Bandwidth\n",
    "T = 36.5e-6  # Sweep Time\n",
    "N = 512  # Sample Length\n",
    "L = 128  # Chirp Total\n",
    "c = 3e8  # Speed of Light\n",
    "f0 = 76.5e9  # Start Frequency\n",
    "NumRangeFFT = 512  # Range FFT Length\n",
    "NumDopplerFFT = 128  # Doppler FFT Length\n",
    "rangeRes = c/2/B  # Range Resolution\n",
    "velRes = c/2/f0/T/NumDopplerFFT  # Velocity Resolution\n",
    "maxRange = rangeRes * NumRangeFFT/2  # Max Range\n",
    "maxVel = velRes * NumDopplerFFT/2  # Max Velocity\n",
    "tarR = [50, 90]  # Target Range\n",
    "tarV = [3, 20]  # Target Velocity\n"
   ]
  },
  {
   "cell_type": "code",
   "execution_count": null,
   "id": "11a90aa0",
   "metadata": {},
   "outputs": [],
   "source": []
  }
 ],
 "metadata": {
  "kernelspec": {
   "display_name": "Python 3",
   "language": "python",
   "name": "python3"
  },
  "language_info": {
   "codemirror_mode": {
    "name": "ipython",
    "version": 3
   },
   "file_extension": ".py",
   "mimetype": "text/x-python",
   "name": "python",
   "nbconvert_exporter": "python",
   "pygments_lexer": "ipython3",
   "version": "3.8.5"
  }
 },
 "nbformat": 4,
 "nbformat_minor": 5
}
